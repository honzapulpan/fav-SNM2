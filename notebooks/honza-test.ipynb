{
 "cells": [
  {
   "cell_type": "code",
   "execution_count": 2,
   "metadata": {},
   "outputs": [],
   "source": [
    "import numpy as np\n",
    "import matplotlib.pyplot as plt\n",
    "plt.rcParams[\"figure.figsize\"] = (10,4)"
   ]
  },
  {
   "cell_type": "code",
   "execution_count": 3,
   "metadata": {},
   "outputs": [],
   "source": [
    "# Roe z Clawpacku\n",
    "num_eqn = 2\n",
    "num_waves = 2\n",
    "\n",
    "def shallow_roe_1D(q_l, q_r, aux_l, aux_r, problem_data):\n",
    "    r\"\"\"\n",
    "    Roe shallow water solver in 1d::\n",
    "        ubar = (sqrt(u_l) + sqrt(u_r)) / (sqrt(h_l) + sqrt(h_r))\n",
    "        cbar = sqrt( 0.5 * g * (h_l + h_r))\n",
    "        W_1 = |      1      |  s_1 = ubar - cbar\n",
    "              | ubar - cbar |\n",
    "        W_2 = |      1      |  s_1 = ubar + cbar\n",
    "              | ubar + cbar |\n",
    "        a1 = 0.5 * ( - delta_hu + (ubar + cbar) * delta_h ) / cbar\n",
    "        a2 = 0.5 * (   delta_hu - (ubar - cbar) * delta_h ) / cbar\n",
    "    *problem_data* should contain:\n",
    "     - *g* - (float) Gravitational constant\n",
    "     - *efix* - (bool) Boolean as to whether a entropy fix should be used, if\n",
    "       not present, false is assumed\n",
    "    :Version: 1.0 (2009-02-05)\n",
    "    \"\"\"\n",
    "\n",
    "    # Array shapes\n",
    "    num_rp = q_l.shape[1]\n",
    "\n",
    "    # Output arrays\n",
    "    wave = np.empty( (num_eqn, num_waves, num_rp) )\n",
    "    s = np.zeros( (num_waves, num_rp) )\n",
    "    amdq = np.zeros( (num_eqn, num_rp) )\n",
    "    apdq = np.zeros( (num_eqn, num_rp) )\n",
    "\n",
    "    # Compute roe-averaged quantities\n",
    "    ubar = ( (q_l[1,:]/np.sqrt(q_l[0,:]) + q_r[1,:]/np.sqrt(q_r[0,:])) /\n",
    "             (np.sqrt(q_l[0,:]) + np.sqrt(q_r[0,:])) )\n",
    "    cbar = np.sqrt(0.5 * problem_data['grav'] * (q_l[0,:] + q_r[0,:]))\n",
    "\n",
    "    # Compute Flux structure\n",
    "    delta = q_r - q_l\n",
    "    a1 = 0.5 * (-delta[1,:] + (ubar + cbar) * delta[0,:]) / cbar\n",
    "    a2 = 0.5 * ( delta[1,:] - (ubar - cbar) * delta[0,:]) / cbar\n",
    "\n",
    "    # Compute each family of waves\n",
    "    wave[0,0,:] = a1\n",
    "    wave[1,0,:] = a1 * (ubar - cbar)\n",
    "    s[0,:] = ubar - cbar\n",
    "\n",
    "    wave[0,1,:] = a2\n",
    "    wave[1,1,:] = a2 * (ubar + cbar)\n",
    "    s[1,:] = ubar + cbar\n",
    "\n",
    "    if problem_data['efix']:\n",
    "        raise NotImplementedError(\"Entropy fix has not been implemented.\")\n",
    "    else:\n",
    "        s_index = np.zeros((2,num_rp))\n",
    "        for m in range(num_eqn):\n",
    "            for mw in range(num_waves):\n",
    "                s_index[0,:] = s[mw,:]\n",
    "                amdq[m,:] += np.min(s_index,axis=0) * wave[m,mw,:]\n",
    "                apdq[m,:] += np.max(s_index,axis=0) * wave[m,mw,:]\n",
    "\n",
    "    return wave, s, amdq, apdq"
   ]
  },
  {
   "cell_type": "code",
   "execution_count": 20,
   "metadata": {},
   "outputs": [],
   "source": [
    "grav = 9.81\n",
    "\n",
    "# domain\n",
    "N = 10\n",
    "Nt = 1\n",
    "dx = 0.005\n",
    "dt = 0.0001\n",
    "dtdx = dt/dx\n",
    "\n",
    "x_start = -N/2*dx #-5.\n",
    "#x_start = 0\n",
    "x = np.linspace(x_start, x_start + dx*N, N)\n",
    "\n",
    "\n",
    "# initial conditions\n",
    "# q = [h, hu]\n",
    "# POZOR, MUSI BYT CELOU DOBU KLADNA A TO I PO PROHNANI RESICEM\n",
    "q_state = np.zeros([2,N])\n",
    "q_state[0,0:int(N/2)] = 4\n",
    "q_state[0,int(N/2):] = 1\n",
    "#q_state[0,:] = .1 * np.sin(np.linspace(0,4*np.pi,N)) +1\n",
    "\n",
    "\n",
    "# problem_data\n",
    "problem_data = {'grav' : grav,\n",
    "               'efix' : False}\n",
    "aux_l, aux_r = 0, 0\n",
    "#print(q_state)\n",
    "q_l = q_state[:,:-1]\n",
    "q_r = q_state[:,1:]\n",
    "wave, s, amdq, apdq = shallow_hll_1D(q_l, q_r, aux_l, aux_r, problem_data)"
   ]
  },
  {
   "cell_type": "code",
   "execution_count": 25,
   "metadata": {},
   "outputs": [
    {
     "name": "stdout",
     "output_type": "stream",
     "text": [
      "[[[ 0.          0.          0.          0.         -1.32455532\n",
      "    0.          0.          0.          0.        ]\n",
      "  [ 0.          0.          0.          0.         -1.67544468\n",
      "    0.          0.          0.          0.        ]]\n",
      "\n",
      " [[-0.         -0.         -0.         -0.          6.5595585\n",
      "   -0.         -0.         -0.         -0.        ]\n",
      "  [ 0.          0.          0.          0.         -6.5595585\n",
      "    0.          0.          0.          0.        ]]]\n",
      "(2, 2, 9)\n",
      "[[ 0.          0.          0.          0.         -1.32455532  0.\n",
      "   0.          0.          0.        ]\n",
      " [ 0.          0.          0.          0.         -1.67544468  0.\n",
      "   0.          0.          0.        ]]\n"
     ]
    }
   ],
   "source": [
    "print(wave)\n",
    "#print(s)\n",
    "#print(s.shape)\n",
    "print(wave.shape)\n",
    "print(wave[0,:,:])"
   ]
  },
  {
   "cell_type": "code",
   "execution_count": 4,
   "metadata": {},
   "outputs": [],
   "source": [
    "# HLL z Clawpacku\n",
    "\n",
    "def shallow_hll_1D(q_l,q_r,aux_l,aux_r,problem_data):\n",
    "    r\"\"\"\n",
    "    HLL shallow water solver ::\n",
    "        W_1 = Q_hat - Q_l    s_1 = min(u_l-c_l,u_l+c_l,lambda_roe_1,lambda_roe_2)\n",
    "        W_2 = Q_r - Q_hat    s_2 = max(u_r-c_r,u_r+c_r,lambda_roe_1,lambda_roe_2)\n",
    "        Q_hat = ( f(q_r) - f(q_l) - s_2 * q_r + s_1 * q_l ) / (s_1 - s_2)\n",
    "    *problem_data* should contain:\n",
    "     - *g* - (float) Gravitational constant\n",
    "    :Version: 1.0 (2009-02-05)\n",
    "    \"\"\"\n",
    "    # Array shapes\n",
    "    num_rp = q_l.shape[1]\n",
    "    num_eqn = 2\n",
    "    num_waves = 2\n",
    "\n",
    "    # Output arrays\n",
    "    wave = np.empty( (num_eqn, num_waves, num_rp) )\n",
    "    s = np.empty( (num_waves, num_rp) )\n",
    "    amdq = np.zeros( (num_eqn, num_rp) )\n",
    "    apdq = np.zeros( (num_eqn, num_rp) )\n",
    "\n",
    "    # Compute Roe and right and left speeds\n",
    "    ubar = ( (q_l[1,:]/np.sqrt(q_l[0,:]) + q_r[1,:]/np.sqrt(q_r[0,:])) /\n",
    "        (np.sqrt(q_l[0,:]) + np.sqrt(q_r[0,:])) )\n",
    "    cbar = np.sqrt(0.5 * problem_data['grav'] * (q_l[0,:] + q_r[0,:]))\n",
    "    u_r = q_r[1,:] / q_r[0,:]\n",
    "    c_r = np.sqrt(problem_data['grav'] * q_r[0,:])\n",
    "    u_l = q_l[1,:] / q_l[0,:]\n",
    "    c_l = np.sqrt(problem_data['grav'] * q_l[0,:])\n",
    "\n",
    "    # Compute Einfeldt speeds\n",
    "    s_index = np.empty((4,num_rp))\n",
    "    s_index[0,:] = ubar+cbar\n",
    "    s_index[1,:] = ubar-cbar\n",
    "    s_index[2,:] = u_l + c_l\n",
    "    s_index[3,:] = u_l - c_l\n",
    "    s[0,:] = np.min(s_index,axis=0)\n",
    "    s_index[2,:] = u_r + c_r\n",
    "    s_index[3,:] = u_r - c_r\n",
    "    s[1,:] = np.max(s_index,axis=0)\n",
    "\n",
    "    # Compute middle state\n",
    "    q_hat = np.empty((2,num_rp))\n",
    "    q_hat[0,:] = ((q_r[1,:] - q_l[1,:] - s[1,:] * q_r[0,:]\n",
    "                            + s[0,:] * q_l[0,:]) / (s[0,:] - s[1,:]))\n",
    "    q_hat[1,:] = ((q_r[1,:]**2/q_r[0,:] + 0.5 * problem_data['grav'] * q_r[0,:]**2\n",
    "                - (q_l[1,:]**2/q_l[0,:] + 0.5 * problem_data['grav'] * q_l[0,:]**2)\n",
    "                - s[1,:] * q_r[1,:] + s[0,:] * q_l[1,:]) / (s[0,:] - s[1,:]))\n",
    "\n",
    "    # Compute each family of waves\n",
    "    wave[:,0,:] = q_hat - q_l\n",
    "    wave[:,1,:] = q_r - q_hat\n",
    "\n",
    "    # Compute variations\n",
    "    s_index = np.zeros((2,num_rp))\n",
    "    for m in range(num_eqn):\n",
    "        for mw in range(num_waves):\n",
    "            s_index[0,:] = s[mw,:]\n",
    "            amdq[m,:] += np.min(s_index,axis=0) * wave[m,mw,:]\n",
    "            apdq[m,:] += np.max(s_index,axis=0) * wave[m,mw,:]\n",
    "\n",
    "    return wave, s, amdq, apdq\n"
   ]
  },
  {
   "cell_type": "code",
   "execution_count": 44,
   "metadata": {},
   "outputs": [
    {
     "data": {
      "image/png": "[encoded data removed]",
      "text/plain": [
       "<Figure size 720x288 with 2 Axes>"
      ]
     },
     "metadata": {
      "needs_background": "light"
     },
     "output_type": "display_data"
    }
   ],
   "source": [
    "# constants\n",
    "grav = 9.81\n",
    "\n",
    "# domain\n",
    "N = 200\n",
    "Nt = 400\n",
    "dx = 0.005\n",
    "dt = 0.0001\n",
    "dtdx = dt/dx\n",
    "\n",
    "x_start = -N/2*dx #-5.\n",
    "#x_start = 0\n",
    "x = np.linspace(x_start, x_start + dx*N, N)\n",
    "\n",
    "\n",
    "# initial conditions\n",
    "# q = [h, hu]\n",
    "# POZOR, MUSI BYT CELOU DOBU KLADNA A TO I PO PROHNANI RESICEM\n",
    "q_state = np.zeros([2,N])\n",
    "q_state[0,0:int(N/2)] = 1\n",
    "q_state[0,int(N/2):] = 4\n",
    "#q_state[0,:] = .1 * np.sin(np.linspace(0,4*np.pi,N)) +1\n",
    "\n",
    "\n",
    "# problem_data\n",
    "problem_data = {'grav' : grav,\n",
    "               'efix' : False}\n",
    "aux_l, aux_r = 0, 0\n",
    "#print(q_state)\n",
    "\n",
    "plt.subplot(1, 2, 1)\n",
    "plt.plot(x, q_state[0,:], 'bx:')\n",
    "plt.subplot(1, 2, 2)\n",
    "plt.plot(x, q_state[1,:], 'rx:')\n",
    "plt.show()\n",
    "\n",
    "# run Roe solver\n",
    "for i in range(Nt):\n",
    "    q_l = q_state[:,:-1]\n",
    "    q_r = q_state[:,1:]\n",
    "\n",
    "    #wave, s, amdq, apdq = shallow_roe_1D(q_l, q_r, aux_l, aux_r, problem_data)\n",
    "    wave, s, amdq, apdq = shallow_hll_1D(q_l, q_r, aux_l, aux_r, problem_data)\n",
    "    \n",
    "    q_state[:,:-1] = q_state[:,:-1] - dtdx * amdq\n",
    "    q_state[:,1:] = q_state[:,1:] - dtdx * apdq\n",
    "    \n",
    "    #high-resolution\n",
    "    #q_state[:,:-1] = q_state[:,:-1] - dtdx * (1/2. *     \n",
    "    #print(q_state)\n",
    "    \n",
    "\n",
    "g_state = np.copy(q_state)"
   ]
  },
  {
   "cell_type": "code",
   "execution_count": 45,
   "metadata": {},
   "outputs": [
    {
     "data": {
      "image/png": "[encoded data removed]",
      "text/plain": [
       "<Figure size 720x288 with 2 Axes>"
      ]
     },
     "metadata": {
      "needs_background": "light"
     },
     "output_type": "display_data"
    },
    {
     "data": {
      "image/png": "[encoded data removed]",
      "text/plain": [
       "<Figure size 720x288 with 2 Axes>"
      ]
     },
     "metadata": {
      "needs_background": "light"
     },
     "output_type": "display_data"
    }
   ],
   "source": [
    "# constants\n",
    "grav = 9.81\n",
    "\n",
    "# domain\n",
    "N = 200\n",
    "Nt = 400\n",
    "dx = 0.005\n",
    "dt = 0.0001\n",
    "dtdx = dt/dx\n",
    "\n",
    "x_start = -N/2*dx #-5.\n",
    "#x_start = 0\n",
    "x = np.linspace(x_start, x_start + dx*N, N)\n",
    "\n",
    "\n",
    "# initial conditions\n",
    "# q = [h, hu]\n",
    "# POZOR, MUSI BYT CELOU DOBU KLADNA A TO I PO PROHNANI RESICEM\n",
    "q_state = np.zeros([2,N])\n",
    "q_state[0,0:int(N/2)] = 1\n",
    "q_state[0,int(N/2):] = 4\n",
    "#q_state[0,:] = .1 * np.sin(np.linspace(0,4*np.pi,N)) +1\n",
    "\n",
    "\n",
    "# problem_data\n",
    "problem_data = {'grav' : grav,\n",
    "               'efix' : False}\n",
    "aux_l, aux_r = 0, 0\n",
    "#print(q_state)\n",
    "\n",
    "plt.subplot(1, 2, 1)\n",
    "plt.plot(x, q_state[0,:], 'bx:')\n",
    "plt.subplot(1, 2, 2)\n",
    "plt.plot(x, q_state[1,:], 'rx:')\n",
    "plt.show()\n",
    "\n",
    "# run Roe solver\n",
    "for i in range(Nt):\n",
    "    q_l = q_state[:,:-1]\n",
    "    q_r = q_state[:,1:]\n",
    "\n",
    "    #wave, s, amdq, apdq = shallow_roe_1D(q_l, q_r, aux_l, aux_r, problem_data)\n",
    "    wave, s, amdq, apdq = shallow_hll_1D(q_l, q_r, aux_l, aux_r, problem_data)\n",
    "    \n",
    "    q_state[:,:-1] = q_state[:,:-1] - dtdx * amdq\n",
    "    q_state[:,1:] = q_state[:,1:] - dtdx * apdq\n",
    "    \n",
    "    #high-resolution\n",
    "    \n",
    "    \n",
    "    F = np.zeros([2,N-1])\n",
    "    w_num = wave.shape[1]\n",
    "    for e in range(2):\n",
    "        for i in range(N-1):\n",
    "            for j in range(w_num):\n",
    "                F[e,i] = 1/2 * np.abs(s[j,i])*(1-dtdx*np.abs(s[j,i]))*wave[e,j,i]\n",
    "                \n",
    "    q_state[:,:-1] = q_state[:,:-1] + dtdx * F\n",
    "    q_state[:,1:] = q_state[:,1:] - dtdx * F\n",
    "    \n",
    "plt.subplot(1, 2, 1)\n",
    "plt.plot(x, q_state[0,:], 'bx:')\n",
    "plt.subplot(1, 2, 2)\n",
    "plt.plot(x, q_state[1,:], 'rx:')\n",
    "plt.show()\n"
   ]
  },
  {
   "cell_type": "code",
   "execution_count": 46,
   "metadata": {},
   "outputs": [
    {
     "name": "stderr",
     "output_type": "stream",
     "text": [
      "<ipython-input-46-8447850fc4e4>:4: MatplotlibDeprecationWarning: Adding an axes using the same arguments as a previous axes currently reuses the earlier instance.  In a future version, a new instance will always be created and returned.  Meanwhile, this warning can be suppressed, and the future behavior ensured, by passing a unique label to each axes instance.\n",
      "  plt.subplot(1, 2, 1)\n",
      "<ipython-input-46-8447850fc4e4>:10: MatplotlibDeprecationWarning: Adding an axes using the same arguments as a previous axes currently reuses the earlier instance.  In a future version, a new instance will always be created and returned.  Meanwhile, this warning can be suppressed, and the future behavior ensured, by passing a unique label to each axes instance.\n",
      "  plt.subplot(1, 2, 2)\n"
     ]
    },
    {
     "data": {
      "image/png": "[encoded data removed]",
      "text/plain": [
       "<Figure size 720x288 with 2 Axes>"
      ]
     },
     "metadata": {
      "needs_background": "light"
     },
     "output_type": "display_data"
    }
   ],
   "source": [
    "plt.subplot(1, 2, 1)\n",
    "plt.plot(x, q_state[0,:], 'bx:')\n",
    "\n",
    "plt.subplot(1, 2, 1)\n",
    "plt.plot(x, g_state[0,:], 'go:')\n",
    "\n",
    "\n",
    "plt.subplot(1, 2, 2)\n",
    "plt.plot(x, q_state[1,:], 'rx:')\n",
    "plt.subplot(1, 2, 2)\n",
    "plt.plot(x, g_state[1,:], 'kx:')\n",
    "plt.show()"
   ]
  },
  {
   "cell_type": "code",
   "execution_count": null,
   "metadata": {},
   "outputs": [],
   "source": []
  }
 ],
 "metadata": {
  "kernelspec": {
   "display_name": "Python 3",
   "language": "python",
   "name": "python3"
  },
  "language_info": {
   "codemirror_mode": {
    "name": "ipython",
    "version": 3
   },
   "file_extension": ".py",
   "mimetype": "text/x-python",
   "name": "python",
   "nbconvert_exporter": "python",
   "pygments_lexer": "ipython3",
   "version": "3.8.2"
  }
 },
 "nbformat": 4,
 "nbformat_minor": 4
}
