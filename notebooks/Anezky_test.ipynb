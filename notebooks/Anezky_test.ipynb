{
 "cells": [
  {
   "cell_type": "code",
   "execution_count": 15,
   "metadata": {},
   "outputs": [],
   "source": [
    "import numpy as np\n",
    "import matplotlib.pyplot as plt"
   ]
  },
  {
   "cell_type": "code",
   "execution_count": 136,
   "metadata": {},
   "outputs": [
    {
     "data": {
      "image/png": "[encoded data removed]",
      "text/plain": [
       "<Figure size 432x288 with 1 Axes>"
      ]
     },
     "metadata": {
      "needs_background": "light"
     },
     "output_type": "display_data"
    }
   ],
   "source": [
    "#Konečné objemy\n",
    "N = 200;\n",
    "dx = 1/(N-1)\n",
    "dt = 0.001;\n",
    "xo = 0;\n",
    "net = np.arange(xo,xo+(N)*dx,dx)\n",
    "grav = 9.81\n",
    "#pocáteční podmínka:\n",
    "ql = 1\n",
    "qr =.5\n",
    "#init Q_{0}\n",
    "H = np.zeros([1,N])\n",
    "HU = np.zeros([1,N])\n",
    "H[0,0:int(N/2)] = ql\n",
    "H[0,int(N/2):N] = qr\n",
    "Q = np.concatenate((H, HU))\n",
    "# problem_data\n",
    "problem_data = {'grav' : grav,\n",
    "               'efix' : False}\n",
    "aux_l, aux_r = 0, 0\n",
    "#počáteční hloubka, počáteční rychlost\n",
    "plt.plot(net,Q[0,:],marker=\"x\",label=\"H_{0}\")\n",
    "plt.plot(net,Q[1,:],marker=\"x\",label=\"HU_{0}\")\n",
    "plt.legend()\n",
    "plt.show()"
   ]
  },
  {
   "cell_type": "markdown",
   "metadata": {},
   "source": [
    "__Godunova metoda__\n",
    "$$ Q_{i}^{n+1}=Q_{i}^{n}-\\frac{\\Delta t}{\\Delta x}(A^{+}\\Delta Q_{i-\\frac{1}{2}}-A^{-}\\Delta Q_{i+\\frac{1}{2}}) $$"
   ]
  },
  {
   "cell_type": "code",
   "execution_count": 134,
   "metadata": {},
   "outputs": [
    {
     "name": "stderr",
     "output_type": "stream",
     "text": [
      "<ipython-input-109-7ef1c5beb46c>:25: RuntimeWarning: invalid value encountered in sqrt\n",
      "  ubar = ( (q_l[1,:]/np.sqrt(q_l[0,:]) + q_r[1,:]/np.sqrt(q_r[0,:])) /\n",
      "<ipython-input-109-7ef1c5beb46c>:26: RuntimeWarning: invalid value encountered in sqrt\n",
      "  (np.sqrt(q_l[0,:]) + np.sqrt(q_r[0,:])) )\n",
      "<ipython-input-109-7ef1c5beb46c>:29: RuntimeWarning: invalid value encountered in sqrt\n",
      "  c_r = np.sqrt(problem_data['grav'] * q_r[0,:])\n",
      "<ipython-input-109-7ef1c5beb46c>:31: RuntimeWarning: invalid value encountered in sqrt\n",
      "  c_l = np.sqrt(problem_data['grav'] * q_l[0,:])\n"
     ]
    },
    {
     "data": {
      "image/png": "[encoded data removed]",
      "text/plain": [
       "<Figure size 432x288 with 1 Axes>"
      ]
     },
     "metadata": {
      "needs_background": "light"
     },
     "output_type": "display_data"
    }
   ],
   "source": [
    "#Godunova metoda\n",
    "for i in range(50):\n",
    "    q_l = Q[:,:-1]\n",
    "    q_r = Q[:,1:]\n",
    "\n",
    "    #wave, s, amdq, apdq = shallow_roe_1D(q_l, q_r, aux_l, aux_r, problem_data)\n",
    "    wave, s, amdq, apdq = shallow_hll_1D(q_l, q_r, aux_l, aux_r, problem_data)\n",
    "    \n",
    "    Q[:,:-1] = Q[:,:-1] - dt/dx * apdq\n",
    "    Q[:,1:] = Q[:,1:] - dt/dx * amdq\n",
    "    \n",
    "#počáteční hloubka, počáteční rychlost\n",
    "plt.plot(net,Q[0,:],marker=\"x\",label=\"H_{i}\")\n",
    "plt.plot(net,Q[1,:],marker=\"x\",label=\"HU_{i}\")\n",
    "plt.legend()\n",
    "plt.show()\n"
   ]
  },
  {
   "cell_type": "markdown",
   "metadata": {},
   "source": [
    "__Godunova metoda - High-Resolution__\n",
    "$$ Q_{i}^{n+1}=Q_{i}^{n}-\\frac{\\Delta t}{\\Delta x}(A^{+}\\Delta Q_{i-\\frac{1}{2}}-A^{-}\\Delta Q_{i+\\frac{1}{2}})-\\frac{\\Delta t}{\\Delta x}(\\tilde{F}_{i+\\frac{1}{2}}-\\tilde{F}_{i-\\frac{1}{2}}), $$\n",
    "kde\n",
    "$$\\tilde{F}_{i-\\frac{1}{2}} = \\frac{1}{2}|s_{i-\\frac{1}{2}}|(1-\\frac{\\Delta t}{\\Delta x}|s_{i-\\frac{1}{2}}|)\\tilde{W}_{i-\\frac{1}{2}} $$"
   ]
  },
  {
   "cell_type": "code",
   "execution_count": 138,
   "metadata": {},
   "outputs": [
    {
     "name": "stderr",
     "output_type": "stream",
     "text": [
      "<ipython-input-109-7ef1c5beb46c>:25: RuntimeWarning: invalid value encountered in sqrt\n",
      "  ubar = ( (q_l[1,:]/np.sqrt(q_l[0,:]) + q_r[1,:]/np.sqrt(q_r[0,:])) /\n",
      "<ipython-input-109-7ef1c5beb46c>:26: RuntimeWarning: invalid value encountered in sqrt\n",
      "  (np.sqrt(q_l[0,:]) + np.sqrt(q_r[0,:])) )\n",
      "<ipython-input-109-7ef1c5beb46c>:29: RuntimeWarning: invalid value encountered in sqrt\n",
      "  c_r = np.sqrt(problem_data['grav'] * q_r[0,:])\n",
      "<ipython-input-109-7ef1c5beb46c>:31: RuntimeWarning: invalid value encountered in sqrt\n",
      "  c_l = np.sqrt(problem_data['grav'] * q_l[0,:])\n"
     ]
    },
    {
     "data": {
      "image/png": "[encoded data removed]",
      "text/plain": [
       "<Figure size 432x288 with 1 Axes>"
      ]
     },
     "metadata": {
      "needs_background": "light"
     },
     "output_type": "display_data"
    }
   ],
   "source": [
    "#init Q_{0}\n",
    "H = np.zeros([1,N])\n",
    "HU = np.zeros([1,N])\n",
    "H[0,0:int(N/2)] = ql\n",
    "H[0,int(N/2):N] = qr\n",
    "Q = np.concatenate((H, HU))\n",
    "\n",
    "# Godunova metoda - High-Resolution\n",
    "for i in range(50):\n",
    "    q_l = Q[:,:-1]\n",
    "    q_r = Q[:,1:]\n",
    "\n",
    "    #wave, s, amdq, apdq = shallow_roe_1D(q_l, q_r, aux_l, aux_r, problem_data)\n",
    "    wave, s, amdq, apdq = shallow_hll_1D(q_l, q_r, aux_l, aux_r, problem_data)\n",
    "    \n",
    "    Q[:,:-1] = Q[:,:-1] - dt/dx * apdq\n",
    "    Q[:,1:] = Q[:,1:] - dt/dx * amdq\n",
    "    \n",
    "#počáteční hloubka, počáteční rychlost\n",
    "plt.plot(net,Q[0,:],marker=\"x\",label=\"H_{i}\")\n",
    "plt.plot(net,Q[1,:],marker=\"x\",label=\"HU_{i}\")\n",
    "plt.legend()\n",
    "plt.show()"
   ]
  },
  {
   "cell_type": "code",
   "execution_count": 27,
   "metadata": {},
   "outputs": [],
   "source": [
    "# Roe z Clawpacku\n",
    "num_eqn = 2\n",
    "num_waves = 2\n",
    "\n",
    "def shallow_roe_1D(q_l, q_r, aux_l, aux_r, problem_data):\n",
    "    r\"\"\"\n",
    "    Roe shallow water solver in 1d::\n",
    "        ubar = (sqrt(u_l) + sqrt(u_r)) / (sqrt(h_l) + sqrt(h_r))\n",
    "        cbar = sqrt( 0.5 * g * (h_l + h_r))\n",
    "        W_1 = |      1      |  s_1 = ubar - cbar\n",
    "              | ubar - cbar |\n",
    "        W_2 = |      1      |  s_1 = ubar + cbar\n",
    "              | ubar + cbar |\n",
    "        a1 = 0.5 * ( - delta_hu + (ubar + cbar) * delta_h ) / cbar\n",
    "        a2 = 0.5 * (   delta_hu - (ubar - cbar) * delta_h ) / cbar\n",
    "    *problem_data* should contain:\n",
    "     - *g* - (float) Gravitational constant\n",
    "     - *efix* - (bool) Boolean as to whether a entropy fix should be used, if\n",
    "       not present, false is assumed\n",
    "    :Version: 1.0 (2009-02-05)\n",
    "    \"\"\"\n",
    "\n",
    "    # Array shapes\n",
    "    num_rp = q_l.shape[1]\n",
    "\n",
    "    # Output arrays\n",
    "    wave = np.empty( (num_eqn, num_waves, num_rp) )\n",
    "    s = np.zeros( (num_waves, num_rp) )\n",
    "    amdq = np.zeros( (num_eqn, num_rp) )\n",
    "    apdq = np.zeros( (num_eqn, num_rp) )\n",
    "\n",
    "    # Compute roe-averaged quantities\n",
    "    ubar = ( (q_l[1,:]/np.sqrt(q_l[0,:]) + q_r[1,:]/np.sqrt(q_r[0,:])) /\n",
    "             (np.sqrt(q_l[0,:]) + np.sqrt(q_r[0,:])) )\n",
    "    cbar = np.sqrt(0.5 * problem_data['grav'] * (q_l[0,:] + q_r[0,:]))\n",
    "\n",
    "    # Compute Flux structure\n",
    "    delta = q_r - q_l\n",
    "    a1 = 0.5 * (-delta[1,:] + (ubar + cbar) * delta[0,:]) / cbar\n",
    "    a2 = 0.5 * ( delta[1,:] - (ubar - cbar) * delta[0,:]) / cbar\n",
    "\n",
    "    # Compute each family of waves\n",
    "    wave[0,0,:] = a1\n",
    "    wave[1,0,:] = a1 * (ubar - cbar)\n",
    "    s[0,:] = ubar - cbar\n",
    "\n",
    "    wave[0,1,:] = a2\n",
    "    wave[1,1,:] = a2 * (ubar + cbar)\n",
    "    s[1,:] = ubar + cbar\n",
    "\n",
    "    if problem_data['efix']:\n",
    "        raise NotImplementedError(\"Entropy fix has not been implemented.\")\n",
    "    else:\n",
    "        s_index = np.zeros((2,num_rp))\n",
    "        for m in range(num_eqn):\n",
    "            for mw in range(num_waves):\n",
    "                s_index[0,:] = s[mw,:]\n",
    "                amdq[m,:] += np.min(s_index,axis=0) * wave[m,mw,:]\n",
    "                apdq[m,:] += np.max(s_index,axis=0) * wave[m,mw,:]\n",
    "\n",
    "    return wave, s, amdq, apdq"
   ]
  },
  {
   "cell_type": "code",
   "execution_count": 109,
   "metadata": {},
   "outputs": [],
   "source": [
    "# HLL z Clawpacku\n",
    "\n",
    "def shallow_hll_1D(q_l,q_r,aux_l,aux_r,problem_data):\n",
    "    r\"\"\"\n",
    "    HLL shallow water solver ::\n",
    "        W_1 = Q_hat - Q_l    s_1 = min(u_l-c_l,u_l+c_l,lambda_roe_1,lambda_roe_2)\n",
    "        W_2 = Q_r - Q_hat    s_2 = max(u_r-c_r,u_r+c_r,lambda_roe_1,lambda_roe_2)\n",
    "        Q_hat = ( f(q_r) - f(q_l) - s_2 * q_r + s_1 * q_l ) / (s_1 - s_2)\n",
    "    *problem_data* should contain:\n",
    "     - *g* - (float) Gravitational constant\n",
    "    :Version: 1.0 (2009-02-05)\n",
    "    \"\"\"\n",
    "    # Array shapes\n",
    "    num_rp = q_l.shape[1]\n",
    "    num_eqn = 2\n",
    "    num_waves = 2\n",
    "\n",
    "    # Output arrays\n",
    "    wave = np.empty( (num_eqn, num_waves, num_rp) )\n",
    "    s = np.empty( (num_waves, num_rp) )\n",
    "    amdq = np.zeros( (num_eqn, num_rp) )\n",
    "    apdq = np.zeros( (num_eqn, num_rp) )\n",
    "\n",
    "    # Compute Roe and right and left speeds\n",
    "    ubar = ( (q_l[1,:]/np.sqrt(q_l[0,:]) + q_r[1,:]/np.sqrt(q_r[0,:])) /\n",
    "        (np.sqrt(q_l[0,:]) + np.sqrt(q_r[0,:])) )\n",
    "    cbar = np.sqrt(0.5 * problem_data['grav'] * (q_l[0,:] + q_r[0,:]))\n",
    "    u_r = q_r[1,:] / q_r[0,:]\n",
    "    c_r = np.sqrt(problem_data['grav'] * q_r[0,:])\n",
    "    u_l = q_l[1,:] / q_l[0,:]\n",
    "    c_l = np.sqrt(problem_data['grav'] * q_l[0,:])\n",
    "\n",
    "    # Compute Einfeldt speeds\n",
    "    s_index = np.empty((4,num_rp))\n",
    "    s_index[0,:] = ubar+cbar\n",
    "    s_index[1,:] = ubar-cbar\n",
    "    s_index[2,:] = u_l + c_l\n",
    "    s_index[3,:] = u_l - c_l\n",
    "    s[0,:] = np.min(s_index,axis=0)\n",
    "    s_index[2,:] = u_r + c_r\n",
    "    s_index[3,:] = u_r - c_r\n",
    "    s[1,:] = np.max(s_index,axis=0)\n",
    "\n",
    "    # Compute middle state\n",
    "    q_hat = np.empty((2,num_rp))\n",
    "    q_hat[0,:] = ((q_r[1,:] - q_l[1,:] - s[1,:] * q_r[0,:]\n",
    "                            + s[0,:] * q_l[0,:]) / (s[0,:] - s[1,:]))\n",
    "    q_hat[1,:] = ((q_r[1,:]**2/q_r[0,:] + 0.5 * problem_data['grav'] * q_r[0,:]**2\n",
    "                - (q_l[1,:]**2/q_l[0,:] + 0.5 * problem_data['grav'] * q_l[0,:]**2)\n",
    "                - s[1,:] * q_r[1,:] + s[0,:] * q_l[1,:]) / (s[0,:] - s[1,:]))\n",
    "\n",
    "    # Compute each family of waves\n",
    "    wave[:,0,:] = q_hat - q_l\n",
    "    wave[:,1,:] = q_r - q_hat\n",
    "\n",
    "    # Compute variations\n",
    "    s_index = np.zeros((2,num_rp))\n",
    "    for m in range(num_eqn):\n",
    "        for mw in range(num_waves):\n",
    "            s_index[0,:] = s[mw,:]\n",
    "            amdq[m,:] += np.min(s_index,axis=0) * wave[m,mw,:]\n",
    "            apdq[m,:] += np.max(s_index,axis=0) * wave[m,mw,:]\n",
    "\n",
    "    return wave, s, amdq, apdq\n"
   ]
  },
  {
   "cell_type": "code",
   "execution_count": null,
   "metadata": {},
   "outputs": [],
   "source": []
  }
 ],
 "metadata": {
  "kernelspec": {
   "display_name": "Python 3",
   "language": "python",
   "name": "python3"
  },
  "language_info": {
   "codemirror_mode": {
    "name": "ipython",
    "version": 3
   },
   "file_extension": ".py",
   "mimetype": "text/x-python",
   "name": "python",
   "nbconvert_exporter": "python",
   "pygments_lexer": "ipython3",
   "version": "3.8.6"
  }
 },
 "nbformat": 4,
 "nbformat_minor": 4
}
