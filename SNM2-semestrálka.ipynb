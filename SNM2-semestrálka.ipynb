{
 "cells": [
  {
   "cell_type": "markdown",
   "metadata": {},
   "source": [
    "# Semestrální práce\n",
    "### KMA/SNM2\n",
    "### Anežka Švandová, Jan Půlpán"
   ]
  },
  {
   "cell_type": "markdown",
   "metadata": {},
   "source": [
    "# Teretický úvod\n",
    "(teoretické základy, shallow water soustava, numerické řešení pomocí Godunova - jen velmi stručně, nechceme opisovat skripta)\n",
    "\n",
    "## Shallow water equation\n",
    "Saint-Venantovy rovnice (zákon zachování hmnostnosti a rovnice momentové bilance), neblo-li Shallow water equations (SWEs), popisují říční proudění korytem řeky. V této práci se budeme zabývat zjednodušeným případem, kdy budeme předpokládat koryto řeky s konstantním obdélníkovým průřezem. Jedná se tedy o jednodimenzionální úlohu ve tvaru:\n",
    "$$\\begin{equation} \\label{eq1}\n",
    "\\begin{bmatrix}\n",
    " \\\\ h \\\\  \\\\\n",
    "hu \\\\ \\\\\n",
    "\\end{bmatrix}_{t} +\n",
    "\\begin{bmatrix}\n",
    "uh \\\\\n",
    "hu^{2}+ \\textstyle \\dfrac{1}{2}gh^{2} \\\\\n",
    "\\end{bmatrix}_{x} = 0,\n",
    "\\end{equation}\n",
    "$$\n",
    "kde $h=h(x,t)$ reprezentuje hledanou hloubku, $u=u(x,t)$ horizontální rychlost a $ g $ je gravitační konstanta. Obecněji úlohů můžeme zapsat jako nelinerní PDR system rovnic ve tvaru zákona zachování:\n",
    "$$\n",
    "\\begin{equation}\n",
    "q_{t}+f(q)_{x}=0,\n",
    "\\end{equation}\n",
    "$$\n",
    "pokud určíme $q(x,t)=\\begin{bmatrix} \\\\ h \\\\  \\\\ hu \\\\ \\\\ \\end{bmatrix}$ a $f(q)=\\begin{bmatrix} uh \\\\ hu^{2}+ \\textstyle \\dfrac{1}{2}gh^{2} \\\\ \\end{bmatrix}$. (vektor f... convex flux)\n",
    "## Riemanův problém (Dam-Break Problem)\n",
    "Počáteční úloha s nespojitou počáteční podmínkou:\n",
    "\n",
    "$$\n",
    "\\begin{equation}\n",
    "\\left\\{\n",
    "    \\begin{split}\n",
    "     \\\\ \\\\ \\\\\n",
    "    &q_{t}+f(q)_{x}=0, & \\text{ kde }x\\in{\\rm I\\!R}, t\\in(0,T)\\\\\n",
    "    &q(x,0)=q_{0}(x)= &\\begin{cases} q_{l} \\quad \\text{ pro }\\quad x<x_{0} \\\\ q_{r} \\quad \\text{ pro } \\quad x>x_{0}\\\\ \\end{cases}, \\quad\\text{ kde } x_{0}\\in{\\rm I\\!R},\\\\\n",
    "    \\end{split}\n",
    "    \\right.\n",
    "\\end{equation}\n",
    "$$\n",
    "\n",
    "$q_{l}=konst.$ a $q_{r}=konst.$\n",
    "\n",
    "## FVM\n",
    "( konvergence, konzistence apod. - zajímají nás podmínky pro tyhle vlastnosti pro metody které ukážeme (základní Godunov, nějaké metody vyšího řádu) CFL podmínka)\n",
    "### Godunova metoda\n",
    "(základní popis Godunovovi metody)\n",
    "\n",
    "Godunova metoda je explicitní numerická metoda pro řešení parciálně diferenciálních rovnic, která koresponduje s metodou konečných objemů. (Konzrevativní) Proměnná ($q$) je aproximována jako průměrem řešení přes kontorlní objem $[x_{i-1/2},x_{i+1/2}]$ velikost $\\Delta x$, tzn. tvoří po částech konstantní funkci s Riemanovy problémy na hranicích kontrolních obejmů, pokud aproximovaná hodnota sousedních kontrolních objemů není shodná. Prostorová chyba je řádu $\\Delta x$, jedná se tedy o metodu prvního řádu v prostoru.\n",
    "\n",
    "\n",
    "V Godunově metodě jsou proměné (je konzervativní proměnná aproximována) aproximovány jako po částech konstantní funkce přes jednotlivé kontrolní objemy $[x_{i-1/2},x_{i+1/2}]$ sítě v každém časovém kroku.  To znamená, že na každé hranici kontrolních objemů je řešen Riemanův problém (pokud sousední buňky nejsou aproximovány stejnou konstatntou.) K řešení Rie. problému na hranicích kontorlních buněk je využívt přesný Riemanův řešič.  \n",
    "\n",
    "Jedná se o konzervativní metodu...\n",
    "\n",
    "metoda prvního řádu v prostoru i čase\n",
    "\n",
    "\n",
    "$$ Q_{i}^{n+1}=Q_{i}^{n}-\\frac{\\Delta t}{\\Delta x}\\left(A^{+}\\Delta Q_{i-1/2}-A^{-}\\Delta Q_{i+1/2}\\right) $$\n",
    "\n",
    "### Godunova metoda druhého řádu\n",
    "\n",
    "$$ Q_{i}^{n+1}=Q_{i}^{n}-\\frac{\\Delta t}{\\Delta x}\\left(A^{+}\\Delta Q_{i-1/2}-A^{-}\\Delta Q_{i+1/2}\\right)-\\frac{\\Delta t}{\\Delta x}\\left(\\tilde{F}_{i+1/2}-\\tilde{F}_{i-1/2}\\right), $$\n",
    "kde\n",
    "$$\\tilde{F}_{i-1/2} = \\frac{1}{2}|s_{i-1/2}|\\left(1-\\frac{\\Delta t}{\\Delta x}|s_{i-1/2}|\\right)\\tilde{W}_{i-1/2} $$\n",
    "\n",
    "__Obsah__\n",
    "- numerické experimenty - různé num. metody založené na Godunovovi (co nejvíc bereme z Clawpacku)\n",
    "    - základní Godunov - zkusít víc Riemann řešičů z Clawpacku (Roe, hll, možná fwave) a porovnat je (podle prvního pohledu se prakticky neliší) \n",
    "    - metody vyššího řádu (asi hlavně Lax-Wendrof ???), limitery zase využít z Clawpacku a porovnat (některé kmitají, ale je třeba zjistit a popsat proč)\n",
    "    - ukázat vliv dělení sítě (CFL)\n",
    "    - jakej je rozdíl mezi metodou 1. a vyšších řádů"
   ]
  },
  {
   "cell_type": "code",
   "execution_count": null,
   "metadata": {},
   "outputs": [],
   "source": []
  }
 ],
 "metadata": {
  "kernelspec": {
   "display_name": "Python 3",
   "language": "python",
   "name": "python3"
  },
  "language_info": {
   "codemirror_mode": {
    "name": "ipython",
    "version": 3
   },
   "file_extension": ".py",
   "mimetype": "text/x-python",
   "name": "python",
   "nbconvert_exporter": "python",
   "pygments_lexer": "ipython3",
   "version": "3.8.6"
  }
 },
 "nbformat": 4,
 "nbformat_minor": 5
}
