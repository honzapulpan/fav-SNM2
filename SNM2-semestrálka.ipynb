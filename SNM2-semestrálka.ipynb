{
 "cells": [
  {
   "cell_type": "markdown",
   "id": "commercial-degree",
   "metadata": {},
   "source": [
    "# Semestrální práce\n",
    "### KMA/SNM2\n",
    "### Anežka Švandová, Jan Půlpán"
   ]
  },
  {
   "cell_type": "markdown",
   "id": "freelance-anniversary",
   "metadata": {},
   "source": [
    "### Obsah:\n",
    "\n",
    "- teoretické základy, shallow water soustava, numerické řešení pomocí Godunova - jen velmi stručně, nechceme opisovat skripta\n",
    "- konvergence, konzistence apod. - zajímají nás podmínky pro tyhle vlastnosti pro metody které ukážeme (základní Godunov, nějaké metody vyšího řádu)\n",
    "- CFL podmínka\n",
    "- základní popis Godunovovi metody\n",
    "\n",
    "- numerické experimenty - různé num. metody založené na Godunovovi (co nejvíc bereme z Clawpacku)\n",
    "    - základní Godunov - zkusít víc Riemann řešičů z Clawpacku (Roe, hll, možná fwave) a porovnat je (podle prvního pohledu se prakticky neliší) \n",
    "    - metody vyššího řádu (asi hlavně Lax-Wendrof ???), limitery zase využít z Clawpacku a porovnat (některé kmitají, ale je třeba zjistit a popsat proč)\n",
    "    - ukázat vliv dělení sítě (CFL)\n",
    "    - jakej je rozdíl mezi metodou 1. a vyšších řádů"
   ]
  },
  {
   "cell_type": "code",
   "execution_count": null,
   "id": "numerical-ancient",
   "metadata": {},
   "outputs": [],
   "source": []
  }
 ],
 "metadata": {
  "kernelspec": {
   "display_name": "Python 3",
   "language": "python",
   "name": "python3"
  },
  "language_info": {
   "codemirror_mode": {
    "name": "ipython",
    "version": 3
   },
   "file_extension": ".py",
   "mimetype": "text/x-python",
   "name": "python",
   "nbconvert_exporter": "python",
   "pygments_lexer": "ipython3",
   "version": "3.8.2"
  }
 },
 "nbformat": 4,
 "nbformat_minor": 5
}
